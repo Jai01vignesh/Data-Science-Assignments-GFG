{
 "cells": [
  {
   "cell_type": "code",
   "execution_count": 12,
   "id": "d5e3e87d",
   "metadata": {},
   "outputs": [],
   "source": [
    "import json \n",
    "import pandas as pd\n",
    "import matplotlib.pyplot as plt\n",
    "json_file_path = \"data.json\"\n",
    "with open (json_file_path, \"r\") as fle:\n",
    "    filt = json.load(fle)\n",
    "fle.close()"
   ]
  },
  {
   "cell_type": "code",
   "execution_count": 33,
   "id": "8e6fe11d",
   "metadata": {},
   "outputs": [],
   "source": [
    "new_dict={}\n",
    "count=0\n",
    "for k,v,in filt.items():\n",
    "        for k1,v1 in v.items():\n",
    "            if not k1 in [\"restaurants\",\"link\"]:\n",
    "                for k1_,v1_ in v1.items():\n",
    "                    if k1_==\"restaurants\":\n",
    "                        for k2,v2, in v1_.items():\n",
    "                                lst=[]\n",
    "                                count+=1\n",
    "                                lst.append(k2)\n",
    "                                lst.append(k)\n",
    "                                lst.append(k1)\n",
    "                                if v2.get(\"price\")== None:\n",
    "                                    for k3,v3 in v2.items():\n",
    "                                        lst.append(v3)\n",
    "                                        new_dict.update({str(count):lst})\n",
    "\n",
    "            elif k1==\"restaurants\":\n",
    "                 for k2,v2, in v1.items():\n",
    "                        lst=[]\n",
    "                        count+=1\n",
    "                        lst.append(k2)\n",
    "                        lst.append(k)\n",
    "                        lst.append(k)\n",
    "                        if v2.get(\"price\")== None:\n",
    "                            for k3,v3 in v2.items():\n",
    "                                lst.append(v3)\n",
    "                                new_dict.update({str(count):lst})"
   ]
  },
  {
   "cell_type": "code",
   "execution_count": 38,
   "id": "303cb016",
   "metadata": {},
   "outputs": [
    {
     "data": {
      "text/html": [
       "<div>\n",
       "<style scoped>\n",
       "    .dataframe tbody tr th:only-of-type {\n",
       "        vertical-align: middle;\n",
       "    }\n",
       "\n",
       "    .dataframe tbody tr th {\n",
       "        vertical-align: top;\n",
       "    }\n",
       "\n",
       "    .dataframe thead th {\n",
       "        text-align: right;\n",
       "    }\n",
       "</style>\n",
       "<table border=\"1\" class=\"dataframe\">\n",
       "  <thead>\n",
       "    <tr style=\"text-align: right;\">\n",
       "      <th></th>\n",
       "      <th>id</th>\n",
       "      <th>city</th>\n",
       "      <th>sub_region</th>\n",
       "      <th>name</th>\n",
       "      <th>rating</th>\n",
       "      <th>rating_count</th>\n",
       "      <th>cost-₹</th>\n",
       "      <th>address</th>\n",
       "      <th>cuisine</th>\n",
       "      <th>lic_no</th>\n",
       "      <th>menu</th>\n",
       "      <th>link</th>\n",
       "    </tr>\n",
       "  </thead>\n",
       "  <tbody>\n",
       "    <tr>\n",
       "      <th>1</th>\n",
       "      <td>567335</td>\n",
       "      <td>Abohar</td>\n",
       "      <td>Abohar</td>\n",
       "      <td>AB FOODS POINT</td>\n",
       "      <td>--</td>\n",
       "      <td>Too Few Ratings</td>\n",
       "      <td>₹ 200</td>\n",
       "      <td>AB FOODS POINT, NEAR RISHI NARANG DENTAL CLINI...</td>\n",
       "      <td>Beverages,Pizzas</td>\n",
       "      <td>22122652000138</td>\n",
       "      <td>{'Burger': {'Aloo Tikki Burger': {'price': '40...</td>\n",
       "      <td>https://www.swiggy.com/restaurants/ab-foods-po...</td>\n",
       "    </tr>\n",
       "    <tr>\n",
       "      <th>2</th>\n",
       "      <td>531342</td>\n",
       "      <td>Abohar</td>\n",
       "      <td>Abohar</td>\n",
       "      <td>Janta Sweet House</td>\n",
       "      <td>4.4</td>\n",
       "      <td>50+ ratings</td>\n",
       "      <td>₹ 200</td>\n",
       "      <td>Janta Sweet House, Bazar No.9, Circullar Road,...</td>\n",
       "      <td>Sweets,Bakery</td>\n",
       "      <td>12117201000112</td>\n",
       "      <td>{'Breakfast': {'Veg Grilled Sandwich': {'price...</td>\n",
       "      <td>https://www.swiggy.com/restaurants/janta-sweet...</td>\n",
       "    </tr>\n",
       "    <tr>\n",
       "      <th>3</th>\n",
       "      <td>158203</td>\n",
       "      <td>Abohar</td>\n",
       "      <td>Abohar</td>\n",
       "      <td>theka coffee desi</td>\n",
       "      <td>3.8</td>\n",
       "      <td>100+ ratings</td>\n",
       "      <td>₹ 100</td>\n",
       "      <td>theka coffee desi, sahtiya sadan road city</td>\n",
       "      <td>Beverages</td>\n",
       "      <td>22121652000190</td>\n",
       "      <td>{'Recommended': {'Cafe Latte Coffee': {'price'...</td>\n",
       "      <td>https://www.swiggy.com/restaurants/theka-coffe...</td>\n",
       "    </tr>\n",
       "    <tr>\n",
       "      <th>4</th>\n",
       "      <td>187912</td>\n",
       "      <td>Abohar</td>\n",
       "      <td>Abohar</td>\n",
       "      <td>Singh Hut</td>\n",
       "      <td>3.7</td>\n",
       "      <td>20+ ratings</td>\n",
       "      <td>₹ 250</td>\n",
       "      <td>Singh Hut, CIRCULAR ROAD NEAR NEHRU PARK ABOHAR</td>\n",
       "      <td>Fast Food,Indian</td>\n",
       "      <td>22119652000167</td>\n",
       "      <td>{'Recommended': {'Malai Chaap': {'price': '200...</td>\n",
       "      <td>https://www.swiggy.com/restaurants/singh-hut-n...</td>\n",
       "    </tr>\n",
       "    <tr>\n",
       "      <th>5</th>\n",
       "      <td>543530</td>\n",
       "      <td>Abohar</td>\n",
       "      <td>Abohar</td>\n",
       "      <td>GRILL MASTERS</td>\n",
       "      <td>--</td>\n",
       "      <td>Too Few Ratings</td>\n",
       "      <td>₹ 250</td>\n",
       "      <td>GRILL MASTERS, ADA Heights, Abohar - Hanumanga...</td>\n",
       "      <td>Italian-American,Fast Food</td>\n",
       "      <td>12122201000053</td>\n",
       "      <td>{'Veg Burgers': {'Junior': {'price': '65', 've...</td>\n",
       "      <td>https://www.swiggy.com/restaurants/grill-maste...</td>\n",
       "    </tr>\n",
       "  </tbody>\n",
       "</table>\n",
       "</div>"
      ],
      "text/plain": [
       "       id    city sub_region               name rating     rating_count  \\\n",
       "1  567335  Abohar     Abohar     AB FOODS POINT     --  Too Few Ratings   \n",
       "2  531342  Abohar     Abohar  Janta Sweet House    4.4      50+ ratings   \n",
       "3  158203  Abohar     Abohar  theka coffee desi    3.8     100+ ratings   \n",
       "4  187912  Abohar     Abohar          Singh Hut    3.7      20+ ratings   \n",
       "5  543530  Abohar     Abohar      GRILL MASTERS     --  Too Few Ratings   \n",
       "\n",
       "  cost-₹                                            address  \\\n",
       "1  ₹ 200  AB FOODS POINT, NEAR RISHI NARANG DENTAL CLINI...   \n",
       "2  ₹ 200  Janta Sweet House, Bazar No.9, Circullar Road,...   \n",
       "3  ₹ 100         theka coffee desi, sahtiya sadan road city   \n",
       "4  ₹ 250    Singh Hut, CIRCULAR ROAD NEAR NEHRU PARK ABOHAR   \n",
       "5  ₹ 250  GRILL MASTERS, ADA Heights, Abohar - Hanumanga...   \n",
       "\n",
       "                      cuisine          lic_no  \\\n",
       "1            Beverages,Pizzas  22122652000138   \n",
       "2               Sweets,Bakery  12117201000112   \n",
       "3                   Beverages  22121652000190   \n",
       "4            Fast Food,Indian  22119652000167   \n",
       "5  Italian-American,Fast Food  12122201000053   \n",
       "\n",
       "                                                menu  \\\n",
       "1  {'Burger': {'Aloo Tikki Burger': {'price': '40...   \n",
       "2  {'Breakfast': {'Veg Grilled Sandwich': {'price...   \n",
       "3  {'Recommended': {'Cafe Latte Coffee': {'price'...   \n",
       "4  {'Recommended': {'Malai Chaap': {'price': '200...   \n",
       "5  {'Veg Burgers': {'Junior': {'price': '65', 've...   \n",
       "\n",
       "                                                link  \n",
       "1  https://www.swiggy.com/restaurants/ab-foods-po...  \n",
       "2  https://www.swiggy.com/restaurants/janta-sweet...  \n",
       "3  https://www.swiggy.com/restaurants/theka-coffe...  \n",
       "4  https://www.swiggy.com/restaurants/singh-hut-n...  \n",
       "5  https://www.swiggy.com/restaurants/grill-maste...  "
      ]
     },
     "execution_count": 38,
     "metadata": {},
     "output_type": "execute_result"
    }
   ],
   "source": [
    "dd=pd.DataFrame.from_dict(new_dict,orient='index',columns=[\"id\",\"city\",\"sub_region\",\"name\",\"rating\",\"rating_count\",\"cost-₹\",\"address\",\"cuisine\",\"lic_no\",\"menu\",\"link\"])\n",
    "dd.head()"
   ]
  },
  {
   "cell_type": "code",
   "execution_count": 39,
   "id": "1ad2f78e",
   "metadata": {},
   "outputs": [
    {
     "data": {
      "text/plain": [
       "(155696, 12)"
      ]
     },
     "execution_count": 39,
     "metadata": {},
     "output_type": "execute_result"
    }
   ],
   "source": [
    "dd.rating.unique()\n",
    "dd.drop(dd[dd.rating==\"NA\"].index,inplace=True)\n",
    "dd.rating=dd.rating.replace(\"--\",\"0.0\").astype(float)\n",
    "dd.shape"
   ]
  },
  {
   "cell_type": "code",
   "execution_count": 40,
   "id": "fea87aff",
   "metadata": {},
   "outputs": [],
   "source": [
    "dd[\"cost-₹\"].unique()\n",
    "dd[\"cost-₹\"]=dd[\"cost-₹\"].str.replace(\"₹ \",\"\")\n",
    "dd.drop(dd[dd[\"cost-₹\"]==\"NA\"].index,inplace=True)\n",
    "dd.drop(dd[dd.lic_no==\"license\"].index,inplace=True)\n",
    "dd[\"cost-₹\"]=dd[\"cost-₹\"].astype(int)"
   ]
  },
  {
   "cell_type": "code",
   "execution_count": 49,
   "id": "c549a82d",
   "metadata": {},
   "outputs": [
    {
     "data": {
      "text/html": [
       "<div>\n",
       "<style scoped>\n",
       "    .dataframe tbody tr th:only-of-type {\n",
       "        vertical-align: middle;\n",
       "    }\n",
       "\n",
       "    .dataframe tbody tr th {\n",
       "        vertical-align: top;\n",
       "    }\n",
       "\n",
       "    .dataframe thead th {\n",
       "        text-align: right;\n",
       "    }\n",
       "</style>\n",
       "<table border=\"1\" class=\"dataframe\">\n",
       "  <thead>\n",
       "    <tr style=\"text-align: right;\">\n",
       "      <th></th>\n",
       "      <th>id</th>\n",
       "      <th>city</th>\n",
       "      <th>sub_region</th>\n",
       "      <th>name</th>\n",
       "      <th>rating</th>\n",
       "      <th>rating_count</th>\n",
       "      <th>cost-₹</th>\n",
       "      <th>address</th>\n",
       "      <th>cuisine</th>\n",
       "      <th>lic_no</th>\n",
       "      <th>menu</th>\n",
       "      <th>link</th>\n",
       "    </tr>\n",
       "  </thead>\n",
       "  <tbody>\n",
       "    <tr>\n",
       "      <th>1</th>\n",
       "      <td>567335</td>\n",
       "      <td>Abohar</td>\n",
       "      <td>Abohar</td>\n",
       "      <td>AB FOODS POINT</td>\n",
       "      <td>0.0</td>\n",
       "      <td>Too Few Ratings</td>\n",
       "      <td>200</td>\n",
       "      <td>AB FOODS POINT, NEAR RISHI NARANG DENTAL CLINI...</td>\n",
       "      <td>Beverages,Pizzas</td>\n",
       "      <td>22122652000138</td>\n",
       "      <td>{'Burger': {'Aloo Tikki Burger': {'price': '40...</td>\n",
       "      <td>https://www.swiggy.com/restaurants/ab-foods-po...</td>\n",
       "    </tr>\n",
       "    <tr>\n",
       "      <th>2</th>\n",
       "      <td>531342</td>\n",
       "      <td>Abohar</td>\n",
       "      <td>Abohar</td>\n",
       "      <td>Janta Sweet House</td>\n",
       "      <td>4.4</td>\n",
       "      <td>50+ ratings</td>\n",
       "      <td>200</td>\n",
       "      <td>Janta Sweet House, Bazar No.9, Circullar Road,...</td>\n",
       "      <td>Sweets,Bakery</td>\n",
       "      <td>12117201000112</td>\n",
       "      <td>{'Breakfast': {'Veg Grilled Sandwich': {'price...</td>\n",
       "      <td>https://www.swiggy.com/restaurants/janta-sweet...</td>\n",
       "    </tr>\n",
       "  </tbody>\n",
       "</table>\n",
       "</div>"
      ],
      "text/plain": [
       "       id    city sub_region               name  rating     rating_count  \\\n",
       "1  567335  Abohar     Abohar     AB FOODS POINT     0.0  Too Few Ratings   \n",
       "2  531342  Abohar     Abohar  Janta Sweet House     4.4      50+ ratings   \n",
       "\n",
       "   cost-₹                                            address  \\\n",
       "1     200  AB FOODS POINT, NEAR RISHI NARANG DENTAL CLINI...   \n",
       "2     200  Janta Sweet House, Bazar No.9, Circullar Road,...   \n",
       "\n",
       "            cuisine          lic_no  \\\n",
       "1  Beverages,Pizzas  22122652000138   \n",
       "2     Sweets,Bakery  12117201000112   \n",
       "\n",
       "                                                menu  \\\n",
       "1  {'Burger': {'Aloo Tikki Burger': {'price': '40...   \n",
       "2  {'Breakfast': {'Veg Grilled Sandwich': {'price...   \n",
       "\n",
       "                                                link  \n",
       "1  https://www.swiggy.com/restaurants/ab-foods-po...  \n",
       "2  https://www.swiggy.com/restaurants/janta-sweet...  "
      ]
     },
     "execution_count": 49,
     "metadata": {},
     "output_type": "execute_result"
    }
   ],
   "source": [
    "dd.head(2)"
   ]
  },
  {
   "cell_type": "markdown",
   "id": "90cb77b9",
   "metadata": {},
   "source": [
    "### 1. Restaurant with Maximum rating throughout the dataset"
   ]
  },
  {
   "cell_type": "code",
   "execution_count": 41,
   "id": "2104766b",
   "metadata": {},
   "outputs": [
    {
     "data": {
      "text/plain": [
       "'SHRI KRISHNA FOOD ZONE'"
      ]
     },
     "execution_count": 41,
     "metadata": {},
     "output_type": "execute_result"
    }
   ],
   "source": [
    "dd.name.loc[(dd.rating==dd.rating.max())&(dd.rating_count==\"100+ ratings\")].item()"
   ]
  },
  {
   "cell_type": "markdown",
   "id": "89761673",
   "metadata": {},
   "source": [
    "### 2. Number of cities with least number of restaurants listed "
   ]
  },
  {
   "cell_type": "code",
   "execution_count": 42,
   "id": "853a2888",
   "metadata": {},
   "outputs": [
    {
     "name": "stdout",
     "output_type": "stream",
     "text": [
      "Darjeeling\n",
      "Hampi\n",
      "Kohima\n",
      "Kumta\n",
      "Manali\n",
      "Rangpo\n"
     ]
    }
   ],
   "source": [
    "for k,y in dd.groupby(['city'])['name'].count()[dd.groupby(['city'])['name'].count() == dd.groupby(['city'])['name'].count().min()].items():\n",
    "    print(k)"
   ]
  },
  {
   "cell_type": "markdown",
   "id": "b90305bf",
   "metadata": {},
   "source": [
    "### 3. Top 10 cities as per the number of restaurants listed?\n"
   ]
  },
  {
   "cell_type": "code",
   "execution_count": 43,
   "id": "d729af84",
   "metadata": {},
   "outputs": [
    {
     "data": {
      "text/plain": [
       "Text(0.5, 1.0, 'Top 10 cities as per the number of restaurants listed')"
      ]
     },
     "execution_count": 43,
     "metadata": {},
     "output_type": "execute_result"
    },
    {
     "data": {
      "image/png": "[encoded data removed]",
      "text/plain": [
       "<Figure size 800x500 with 1 Axes>"
      ]
     },
     "metadata": {},
     "output_type": "display_data"
    }
   ],
   "source": [
    "dd.groupby(['city'])['name'].count().sort_values(ascending=False)[:10].plot(color=\"#D0825D\",kind=\"bar\",figsize=(8, 5),fontsize=8)\n",
    "plt.xlabel(\"Cities\", fontsize=10)\n",
    "plt.ylabel(\"No.of Restaurants\", fontsize=10)\n",
    "plt.title(\"Top 10 cities as per the number of restaurants listed\", fontsize=10)"
   ]
  },
  {
   "cell_type": "markdown",
   "id": "5e282762",
   "metadata": {},
   "source": [
    "### 4. Most popular Cuisines served throughout the dataset?"
   ]
  },
  {
   "cell_type": "code",
   "execution_count": 44,
   "id": "b92e7476",
   "metadata": {},
   "outputs": [
    {
     "data": {
      "text/plain": [
       "'chinese'"
      ]
     },
     "execution_count": 44,
     "metadata": {},
     "output_type": "execute_result"
    }
   ],
   "source": [
    "temp_tbl = dd[['city',\"id\",'cuisine']]\n",
    "temp_tbl = temp_tbl.assign(cuisine=temp_tbl.cuisine.str.split(\",\")).explode(\"cuisine\")\n",
    "temp_tbl.cuisine=temp_tbl.cuisine.str.lower()\n",
    "temp_tbl.cuisine.value_counts().sort_values(ascending=False).idxmax()"
   ]
  },
  {
   "cell_type": "markdown",
   "id": "f8d58379",
   "metadata": {},
   "source": [
    "### 5. Which city is having the least expensive restaurant in terms of cost? "
   ]
  },
  {
   "cell_type": "code",
   "execution_count": 46,
   "id": "41a44f59",
   "metadata": {},
   "outputs": [
    {
     "name": "stdout",
     "output_type": "stream",
     "text": [
      "Bangalore\n",
      "Biharsharif\n",
      "Chandigarh\n",
      "Chennai\n",
      "Delhi\n",
      "Erode\n",
      "Faridkot\n",
      "Gorakhpur\n",
      "Gurgaon\n",
      "Hapur\n",
      "Hyderabad\n",
      "Jhunjhunu\n",
      "Kakinada\n",
      "Kanpur\n",
      "Kolkata\n",
      "Kollam\n",
      "Lucknow\n",
      "Ludhiana\n",
      "Madurai\n",
      "Modinagar\n",
      "Mumbai\n",
      "Muzaffarpur\n",
      "Nagpur\n",
      "Pune\n",
      "Sikar\n",
      "Theni\n",
      "Tirupur\n",
      "Wardha\n"
     ]
    }
   ],
   "source": [
    "for i in dd.city.loc[dd[\"cost-₹\"]==dd[\"cost-₹\"].min()].unique():\n",
    "    print(i)"
   ]
  },
  {
   "cell_type": "markdown",
   "id": "169d8c70",
   "metadata": {},
   "source": [
    "### 6. Top 5 most popular restaurant chains in India?"
   ]
  },
  {
   "cell_type": "code",
   "execution_count": 47,
   "id": "94cf0423",
   "metadata": {},
   "outputs": [
    {
     "data": {
      "text/plain": [
       "Text(0.5, 1.0, 'Top 5 Most popular restaurant chains in India')"
      ]
     },
     "execution_count": 47,
     "metadata": {},
     "output_type": "execute_result"
    },
    {
     "data": {
      "image/png": "[encoded data removed]",
      "text/plain": [
       "<Figure size 800x500 with 1 Axes>"
      ]
     },
     "metadata": {},
     "output_type": "display_data"
    }
   ],
   "source": [
    "dd.name.loc[dd.rating_count=='10K+ ratings'].value_counts()[:5].plot(color=\"#C0825D\",kind=\"bar\",figsize=(8, 5),fontsize=8)\n",
    "plt.xlabel(\"Restaurant Name\", fontsize=10)\n",
    "plt.ylabel(\"No.of cities\", fontsize=10)\n",
    "plt.title(\"Top 5 Most popular restaurant chains in India\", fontsize=15)"
   ]
  },
  {
   "cell_type": "markdown",
   "id": "4059e6ee",
   "metadata": {},
   "source": [
    "### 7. Which restaurant in Banglore has the most number of people visited? "
   ]
  },
  {
   "cell_type": "code",
   "execution_count": 48,
   "id": "894b0937",
   "metadata": {},
   "outputs": [
    {
     "data": {
      "text/plain": [
       "'Truffles'"
      ]
     },
     "execution_count": 48,
     "metadata": {},
     "output_type": "execute_result"
    }
   ],
   "source": [
    "dd.name.loc[(dd.city==\"Bangalore\")&(dd.rating_count=='5K+ ratings')&(dd.rating==4.5)].item()"
   ]
  }
 ],
 "metadata": {
  "kernelspec": {
   "display_name": "Python 3 (ipykernel)",
   "language": "python",
   "name": "python3"
  },
  "language_info": {
   "codemirror_mode": {
    "name": "ipython",
    "version": 3
   },
   "file_extension": ".py",
   "mimetype": "text/x-python",
   "name": "python",
   "nbconvert_exporter": "python",
   "pygments_lexer": "ipython3",
   "version": "3.9.13"
  }
 },
 "nbformat": 4,
 "nbformat_minor": 5
}
